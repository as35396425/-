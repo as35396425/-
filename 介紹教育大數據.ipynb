{
  "nbformat": 4,
  "nbformat_minor": 0,
  "metadata": {
    "colab": {
      "provenance": []
    },
    "kernelspec": {
      "name": "python3",
      "display_name": "Python 3"
    },
    "language_info": {
      "name": "python"
    }
  },
  "cells": [
    {
      "cell_type": "markdown",
      "source": [
        "教育大數據是由學生在學習上的各種因素蒐集而來的，這些因素有數百種，例如:課程、教師教學、同儕風氣...等，讓老師針對每位學生的差異因材施教，也能夠量化學生的學習狀態、學習進度、目標達成率，改善以往教學系統的填鴨式教育，幫助學生整合先前學過的相關知識，並給予個別化的有效回饋，而非強調正確答案只給予對和錯。\n"
      ],
      "metadata": {
        "id": "ZJu3RBePBZ77"
      }
    },
    {
      "cell_type": "markdown",
      "source": [
        "除了讓老師更加了解學生的學習情況外，學生也能更具體的掌握自身的學習，知曉各科目的弱點，並以此排定客製化的讀書計畫。\n"
      ],
      "metadata": {
        "id": "SqmWhtr4CJBh"
      }
    }
  ]
}