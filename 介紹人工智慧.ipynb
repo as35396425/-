{
  "nbformat": 4,
  "nbformat_minor": 0,
  "metadata": {
    "colab": {
      "provenance": []
    },
    "kernelspec": {
      "name": "python3",
      "display_name": "Python 3"
    },
    "language_info": {
      "name": "python"
    }
  },
  "cells": [
    {
      "cell_type": "markdown",
      "source": [
        "人工智慧使機器或電腦透過程式，模擬和執行人類智慧行為的技術領域。"
      ],
      "metadata": {
        "id": "nVRMaOCJgMAt"
      }
    },
    {
      "cell_type": "markdown",
      "source": [
        "AI 的目標是讓機器能夠感知、理解、學習、推理、判斷和解決問題，以模擬人類的認知和智慧。這些系統利用大數據和數學建模，通過學習和自我調整，從經驗中提取模式、規律和知識。人工智慧的方法包括機器學習、深度學習、自然語言處理、計算機視覺等。\n",
        "人工智慧的應用非常廣泛，涵蓋了許多領域，如醫療保健、交通運輸、金融、製造業、零售業等。它可以改進工作效率、提升生產力、優化決策、改善人們的生活品質。"
      ],
      "metadata": {
        "id": "S7zmM695gOa-"
      }
    },
    {
      "cell_type": "markdown",
      "source": [
        "\n",
        "人工智慧還被分為強人工智慧和弱人工智慧\n"
      ],
      "metadata": {
        "id": "9Iwa90p8jWeq"
      }
    },
    {
      "cell_type": "markdown",
      "source": [
        "強人工智慧具備執行一般智慧型行為的能力。強人工智慧通常把人工智慧和意識、感性、知識和自覺等人類的特徵互相連結。\n"
      ],
      "metadata": {
        "id": "eJaZGLv-jZKc"
      }
    },
    {
      "cell_type": "markdown",
      "source": [
        "而智慧型的標準有:\n",
        "<li>自動推理，使用一些策略來解決問題，在不確定性的環境中作出決策；</li>\n",
        "<li>知識表示，包括常識知識庫；</li>\n",
        "<li>自動規劃；</li>\n",
        "<li>自主學習、創新；</li>\n",
        "<li>使用自然語言進行溝通；</li>\n",
        "<li>以及，整合以上這些手段來達到同一個的目標</li> \n"
      ],
      "metadata": {
        "id": "BIik8c5aji3e"
      }
    },
    {
      "cell_type": "markdown",
      "source": [
        "弱人工智慧觀點認為「不可能」製造出能「真正」地推理和解決問題的智慧機器，這些機器只不過「看起來」像是智慧的，但是並不真正擁有智慧，也不會有自主意識。\n",
        "\n"
      ],
      "metadata": {
        "id": "dMz4E-Ruj5v4"
      }
    }
  ]
}